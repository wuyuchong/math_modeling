{
 "cells": [
  {
   "cell_type": "code",
   "execution_count": 10,
   "metadata": {},
   "outputs": [],
   "source": [
    "import pandas as pd\n",
    "import tensorflow as tf\n",
    "import numpy as np\n",
    "from sklearn.feature_selection import VarianceThreshold\n",
    "from sklearn.feature_selection import SelectKBest\n",
    "from sklearn.feature_selection import chi2"
   ]
  },
  {
   "cell_type": "code",
   "execution_count": 27,
   "metadata": {},
   "outputs": [],
   "source": [
    "ADMET_train = pd.read_excel(\"/home/competition/math_modeling/questions/Question_D_Data_Set/ADMET.xlsx\",sheet_name=\"training\")\n",
    "ADMET_test = pd.read_excel(\"/home/competition/math_modeling/questions/Question_D_Data_Set/ADMET.xlsx\",sheet_name=\"test\")\n",
    "ERalpha_activity_train = pd.read_excel('/home/competition/math_modeling/questions/Question_D_Data_Set/ERα_activity.xlsx',sheet_name=\"training\")\n",
    "ERalpha_activity_test = pd.read_excel('/home/competition/math_modeling/questions/Question_D_Data_Set/ERα_activity.xlsx',sheet_name=\"test\")\n",
    "Molecular_Descriptor_train = pd.read_excel('/home/competition/math_modeling/questions/Question_D_Data_Set/Molecular_Descriptor.xlsx',sheet_name=\"training\")\n",
    "Molecular_Descriptor_test = pd.read_excel('/home/competition/math_modeling/questions/Question_D_Data_Set/Molecular_Descriptor.xlsx',sheet_name=\"test\")"
   ]
  },
  {
   "cell_type": "code",
   "execution_count": 34,
   "metadata": {},
   "outputs": [
    {
     "data": {
      "text/plain": [
       "SMILES    0\n",
       "Caco-2    0\n",
       "CYP3A4    0\n",
       "hERG      0\n",
       "HOB       0\n",
       "MN        0\n",
       "dtype: int64"
      ]
     },
     "execution_count": 34,
     "metadata": {},
     "output_type": "execute_result"
    }
   ],
   "source": [
    "#其中训练集完整\n",
    "ERalpha_activity_train.head()\n",
    "ERalpha_activity_train.isna().sum()\n",
    "ADMET_train.isnull().sum()"
   ]
  },
  {
   "cell_type": "code",
   "execution_count": 51,
   "metadata": {},
   "outputs": [
    {
     "name": "stderr",
     "output_type": "stream",
     "text": [
      "/tmp/ipykernel_4160238/359030720.py:5: FutureWarning: Dropping of nuisance columns in DataFrame reductions (with 'numeric_only=None') is deprecated; in a future version this will raise TypeError.  Select only valid columns before calling the reduction.\n",
      "  Molecular_Descriptor_train.var().sort_values()\n"
     ]
    },
    {
     "data": {
      "text/plain": [
       "minHssNH2p    0.000000e+00\n",
       "SHsssNHp      0.000000e+00\n",
       "SHssNH2p      0.000000e+00\n",
       "SHsNH3p       0.000000e+00\n",
       "maxHmisc      0.000000e+00\n",
       "                  ...     \n",
       "ATSp3         1.362331e+06\n",
       "ATSp4         1.761989e+06\n",
       "ATSp5         1.919866e+06\n",
       "fragC         7.430816e+06\n",
       "WPATH         5.176120e+07\n",
       "Length: 729, dtype: float64"
      ]
     },
     "execution_count": 51,
     "metadata": {},
     "output_type": "execute_result"
    }
   ],
   "source": [
    "# select features\n",
    "\n",
    "## delete features with zero var\n",
    "\n",
    "Molecular_Descriptor_train.var().sort_values() "
   ]
  },
  {
   "cell_type": "code",
   "execution_count": 54,
   "metadata": {},
   "outputs": [
    {
     "data": {
      "text/plain": [
       "count    50.0\n",
       "mean      0.0\n",
       "std       0.0\n",
       "min       0.0\n",
       "25%       0.0\n",
       "50%       0.0\n",
       "75%       0.0\n",
       "max       0.0\n",
       "Name: minHssNH2p, dtype: float64"
      ]
     },
     "execution_count": 54,
     "metadata": {},
     "output_type": "execute_result"
    }
   ],
   "source": []
  }
 ],
 "metadata": {
  "interpreter": {
   "hash": "6ffdc4f67e90637801e331d6120cfdf8955398b0e96ead58884f8c7ffedf85e1"
  },
  "kernelspec": {
   "display_name": "Python 3.9.7 64-bit ('r_env': conda)",
   "name": "python3"
  },
  "language_info": {
   "codemirror_mode": {
    "name": "ipython",
    "version": 3
   },
   "file_extension": ".py",
   "mimetype": "text/x-python",
   "name": "python",
   "nbconvert_exporter": "python",
   "pygments_lexer": "ipython3",
   "version": "3.9.7"
  },
  "orig_nbformat": 4
 },
 "nbformat": 4,
 "nbformat_minor": 2
}

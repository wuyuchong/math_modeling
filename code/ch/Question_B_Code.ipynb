{
 "cells": [
  {
   "cell_type": "code",
   "execution_count": 18,
   "metadata": {},
   "outputs": [],
   "source": [
    "import pandas as pd\n",
    "import tensorflow as tf\n",
    "import numpy as np\n",
    "import statsmodels.tsa.api as tsa\n",
    "from sklearn.manifold import TSNE\n",
    "from sklearn.cluster import KMeans\n",
    "import matplotlib.pyplot as plt\n",
    "from mpl_toolkits.mplot3d import Axes3D\n",
    "from sklearn.linear_model import LogisticRegression\n",
    "from sklearn.preprocessing import LabelEncoder\n",
    "from sklearn.model_selection import train_test_split\n",
    "from sklearn import svm\n",
    "from sklearn import metrics\n",
    "from sklearn.metrics import pairwise_distances\n",
    "import xgboost as xgb\n",
    "from datetime import datetime,timedelta\n",
    "from sklearn.impute import KNNImputer\n",
    "import sys\n",
    "from  src.calculate_AQI import calculate_AQI"
   ]
  },
  {
   "cell_type": "markdown",
   "metadata": {},
   "source": [
    "# 一二问"
   ]
  },
  {
   "cell_type": "code",
   "execution_count": 16,
   "metadata": {},
   "outputs": [],
   "source": [
    "# 附录1中A的数据\n",
    "Spot_A_FirstPrediction = pd.read_excel(\"/home/competition/math_modeling/questions/B/1.xlsx\",sheet_name=\"监测点A逐小时污染物浓度与气象一次预报数据\")\n",
    "Spot_A_RealTimeData = pd.read_excel(\"/home/competition/math_modeling/questions/B/1.xlsx\",sheet_name=\"监测点A逐小时污染物浓度与气象实测数据\")\n",
    "Spot_A_RealTimeData_ByDay = pd.read_excel(\"/home/competition/math_modeling/questions/B/1.xlsx\",sheet_name='监测点A逐日污染物浓度实测数据')\n",
    "Appendix1 = [Spot_A_FirstPrediction,Spot_A_RealTimeData,Spot_A_RealTimeData_ByDay]\n",
    "# 附录2中B的数据\n",
    "Spot_B_FirstPrediction = pd.read_excel(\"/home/competition/math_modeling/questions/B/2.xlsx\",sheet_name=\"监测点B逐小时污染物浓度与气象一次预报数据\")\n",
    "Spot_B_RealTimeData = pd.read_excel(\"/home/competition/math_modeling/questions/B/2.xlsx\",sheet_name=\"监测点B逐小时污染物浓度与气象实测数据\")\n",
    "Spot_B_RealTimeData_ByDay = pd.read_excel(\"/home/competition/math_modeling/questions/B/2.xlsx\",sheet_name='监测点B逐日污染物浓度实测数据')\n",
    "# 附录2中C的数据\n",
    "Spot_C_FirstPrediction = pd.read_excel(\"/home/competition/math_modeling/questions/B/2.xlsx\",sheet_name=\"监测点C逐小时污染物浓度与气象一次预报数据\")\n",
    "Spot_C_RealTimeData = pd.read_excel(\"/home/competition/math_modeling/questions/B/2.xlsx\",sheet_name=\"监测点C逐小时污染物浓度与气象实测数据\")\n",
    "Spot_C_RealTimeData_ByDay = pd.read_excel(\"/home/competition/math_modeling/questions/B/2.xlsx\",sheet_name='监测点C逐日污染物浓度实测数据')\n",
    "# 其中C有列名不同，进行修改\n",
    "Spot_C_RealTimeData_ByDay.rename(columns={'实测日期':\"监测日期\",'SO2实测日均(μg/m³)':'SO2监测浓度(μg/m³)',\n",
    "                                            'NO2实测日均(μg/m³)':'NO2监测浓度(μg/m³)',\n",
    "                                            'PM10实测日均(μg/m³)':'PM10监测浓度(μg/m³)',\n",
    "                                            \"PM2.5实测日均(μg/m³)\":'PM2.5监测浓度(μg/m³)',\n",
    "                                            'O3实测八小时滑动平均日最大值(μg/m³)':'O3最大八小时滑动平均监测浓度(μg/m³)',\n",
    "                                            'CO实测日均(mg/m³)':'CO监测浓度(mg/m³)'\n",
    "                                            },inplace=True)\n",
    "\n",
    "#读取AQI计算数据\n",
    "dict_range = pd.read_csv('/home/competition/math_modeling/code/wyc/input/range.csv').to_dict(orient = 'list')"
   ]
  },
  {
   "cell_type": "markdown",
   "metadata": {},
   "source": [
    "<font size=20 color ='red'><center> 目前未处理缺失值！！！！！！</font></center>"
   ]
  },
  {
   "cell_type": "code",
   "execution_count": 17,
   "metadata": {},
   "outputs": [
    {
     "name": "stdout",
     "output_type": "stream",
     "text": [
      "已经在原数据集的基础上添加两列，注意：\n",
      " 空气质量爆表或观测缺失都会导致 NA \n",
      " 取最大值时有一项为 NA 则整体为 NA \n",
      " 小于等于 50 无首要污染物\n",
      "已经在原数据集的基础上添加两列，注意：\n",
      " 空气质量爆表或观测缺失都会导致 NA \n",
      " 取最大值时有一项为 NA 则整体为 NA \n",
      " 小于等于 50 无首要污染物\n",
      "已经在原数据集的基础上添加两列，注意：\n",
      " 空气质量爆表或观测缺失都会导致 NA \n",
      " 取最大值时有一项为 NA 则整体为 NA \n",
      " 小于等于 50 无首要污染物\n"
     ]
    }
   ],
   "source": [
    "#计算AQI\n",
    "Spot_A_RealTimeData_ByDay = calculate_AQI(Spot_A_RealTimeData_ByDay,dict_range)\n",
    "Spot_B_RealTimeData_ByDay = calculate_AQI(Spot_B_RealTimeData_ByDay,dict_range)\n",
    "Spot_C_RealTimeData_ByDay = calculate_AQI(Spot_C_RealTimeData_ByDay,dict_range)"
   ]
  },
  {
   "cell_type": "code",
   "execution_count": 105,
   "metadata": {},
   "outputs": [
    {
     "data": {
      "text/html": [
       "<div>\n",
       "<style scoped>\n",
       "    .dataframe tbody tr th:only-of-type {\n",
       "        vertical-align: middle;\n",
       "    }\n",
       "\n",
       "    .dataframe tbody tr th {\n",
       "        vertical-align: top;\n",
       "    }\n",
       "\n",
       "    .dataframe thead th {\n",
       "        text-align: right;\n",
       "    }\n",
       "</style>\n",
       "<table border=\"1\" class=\"dataframe\">\n",
       "  <thead>\n",
       "    <tr style=\"text-align: right;\">\n",
       "      <th></th>\n",
       "      <th>近地2米温度（℃）</th>\n",
       "      <th>地表温度（K）</th>\n",
       "      <th>比湿（kg/kg）</th>\n",
       "      <th>湿度（%）</th>\n",
       "      <th>近地10米风速（m/s）</th>\n",
       "      <th>近地10米风向（°）</th>\n",
       "      <th>雨量（mm）</th>\n",
       "      <th>云量</th>\n",
       "      <th>边界层高度（m）</th>\n",
       "      <th>大气压（Kpa）</th>\n",
       "      <th>...</th>\n",
       "      <th>潜热通量（W/m²）</th>\n",
       "      <th>长波辐射（W/m²）</th>\n",
       "      <th>短波辐射（W/m²）</th>\n",
       "      <th>地面太阳能辐射（W/m²）</th>\n",
       "      <th>SO2小时平均浓度(μg/m³)</th>\n",
       "      <th>NO2小时平均浓度(μg/m³)</th>\n",
       "      <th>PM10小时平均浓度(μg/m³)</th>\n",
       "      <th>PM2.5小时平均浓度(μg/m³)</th>\n",
       "      <th>O3小时平均浓度(μg/m³)</th>\n",
       "      <th>CO小时平均浓度(mg/m³)</th>\n",
       "    </tr>\n",
       "  </thead>\n",
       "  <tbody>\n",
       "    <tr>\n",
       "      <th>count</th>\n",
       "      <td>25416.000000</td>\n",
       "      <td>25416.000000</td>\n",
       "      <td>25416.000000</td>\n",
       "      <td>25416.000000</td>\n",
       "      <td>25416.000000</td>\n",
       "      <td>25416.000000</td>\n",
       "      <td>25416.000000</td>\n",
       "      <td>25416.000000</td>\n",
       "      <td>25416.000000</td>\n",
       "      <td>25416.000000</td>\n",
       "      <td>...</td>\n",
       "      <td>25416.000000</td>\n",
       "      <td>25416.000000</td>\n",
       "      <td>25416.000000</td>\n",
       "      <td>25416.000000</td>\n",
       "      <td>25416.000000</td>\n",
       "      <td>25416.000000</td>\n",
       "      <td>25416.000000</td>\n",
       "      <td>25416.000000</td>\n",
       "      <td>2.541600e+04</td>\n",
       "      <td>25416.000000</td>\n",
       "    </tr>\n",
       "    <tr>\n",
       "      <th>mean</th>\n",
       "      <td>24.941367</td>\n",
       "      <td>301.906307</td>\n",
       "      <td>0.013027</td>\n",
       "      <td>59.271910</td>\n",
       "      <td>3.927604</td>\n",
       "      <td>123.315270</td>\n",
       "      <td>0.391002</td>\n",
       "      <td>0.460008</td>\n",
       "      <td>674.963830</td>\n",
       "      <td>101.190651</td>\n",
       "      <td>...</td>\n",
       "      <td>16.962561</td>\n",
       "      <td>395.170426</td>\n",
       "      <td>215.264752</td>\n",
       "      <td>258.667851</td>\n",
       "      <td>8.095342</td>\n",
       "      <td>57.976588</td>\n",
       "      <td>33.951973</td>\n",
       "      <td>27.052738</td>\n",
       "      <td>3.289282e+01</td>\n",
       "      <td>0.298747</td>\n",
       "    </tr>\n",
       "    <tr>\n",
       "      <th>std</th>\n",
       "      <td>5.972074</td>\n",
       "      <td>8.613403</td>\n",
       "      <td>0.005130</td>\n",
       "      <td>16.499209</td>\n",
       "      <td>1.696326</td>\n",
       "      <td>79.249468</td>\n",
       "      <td>1.991600</td>\n",
       "      <td>0.326640</td>\n",
       "      <td>450.299871</td>\n",
       "      <td>0.651010</td>\n",
       "      <td>...</td>\n",
       "      <td>19.651134</td>\n",
       "      <td>49.883333</td>\n",
       "      <td>276.857248</td>\n",
       "      <td>332.679032</td>\n",
       "      <td>7.977947</td>\n",
       "      <td>34.019993</td>\n",
       "      <td>28.272897</td>\n",
       "      <td>24.408726</td>\n",
       "      <td>3.549418e+01</td>\n",
       "      <td>0.231951</td>\n",
       "    </tr>\n",
       "    <tr>\n",
       "      <th>min</th>\n",
       "      <td>3.413970</td>\n",
       "      <td>275.448000</td>\n",
       "      <td>0.000647</td>\n",
       "      <td>8.546440</td>\n",
       "      <td>0.012006</td>\n",
       "      <td>0.002380</td>\n",
       "      <td>0.000000</td>\n",
       "      <td>0.000000</td>\n",
       "      <td>19.774900</td>\n",
       "      <td>99.664800</td>\n",
       "      <td>...</td>\n",
       "      <td>-2.089550</td>\n",
       "      <td>230.671000</td>\n",
       "      <td>0.000000</td>\n",
       "      <td>0.000000</td>\n",
       "      <td>0.003020</td>\n",
       "      <td>7.685690</td>\n",
       "      <td>0.538817</td>\n",
       "      <td>0.410555</td>\n",
       "      <td>2.052830e-14</td>\n",
       "      <td>0.089578</td>\n",
       "    </tr>\n",
       "    <tr>\n",
       "      <th>25%</th>\n",
       "      <td>21.211475</td>\n",
       "      <td>296.083750</td>\n",
       "      <td>0.009315</td>\n",
       "      <td>47.224525</td>\n",
       "      <td>2.711615</td>\n",
       "      <td>56.523125</td>\n",
       "      <td>0.000000</td>\n",
       "      <td>0.150826</td>\n",
       "      <td>330.467500</td>\n",
       "      <td>100.631000</td>\n",
       "      <td>...</td>\n",
       "      <td>1.073412</td>\n",
       "      <td>360.149500</td>\n",
       "      <td>0.000000</td>\n",
       "      <td>0.000000</td>\n",
       "      <td>2.695410</td>\n",
       "      <td>31.543275</td>\n",
       "      <td>11.532400</td>\n",
       "      <td>7.621767</td>\n",
       "      <td>4.135275e+00</td>\n",
       "      <td>0.163849</td>\n",
       "    </tr>\n",
       "    <tr>\n",
       "      <th>50%</th>\n",
       "      <td>25.947200</td>\n",
       "      <td>301.986000</td>\n",
       "      <td>0.013289</td>\n",
       "      <td>59.458100</td>\n",
       "      <td>3.834030</td>\n",
       "      <td>130.049500</td>\n",
       "      <td>0.000000</td>\n",
       "      <td>0.439354</td>\n",
       "      <td>549.772000</td>\n",
       "      <td>101.190000</td>\n",
       "      <td>...</td>\n",
       "      <td>6.617565</td>\n",
       "      <td>407.791000</td>\n",
       "      <td>31.445800</td>\n",
       "      <td>37.786050</td>\n",
       "      <td>5.527160</td>\n",
       "      <td>50.482150</td>\n",
       "      <td>25.355650</td>\n",
       "      <td>17.991850</td>\n",
       "      <td>2.122600e+01</td>\n",
       "      <td>0.229687</td>\n",
       "    </tr>\n",
       "    <tr>\n",
       "      <th>75%</th>\n",
       "      <td>29.278250</td>\n",
       "      <td>307.547000</td>\n",
       "      <td>0.017701</td>\n",
       "      <td>72.739450</td>\n",
       "      <td>5.059253</td>\n",
       "      <td>172.048250</td>\n",
       "      <td>0.000000</td>\n",
       "      <td>0.774837</td>\n",
       "      <td>969.257750</td>\n",
       "      <td>101.689250</td>\n",
       "      <td>...</td>\n",
       "      <td>30.767725</td>\n",
       "      <td>435.506750</td>\n",
       "      <td>422.042750</td>\n",
       "      <td>507.138000</td>\n",
       "      <td>10.960800</td>\n",
       "      <td>78.987875</td>\n",
       "      <td>49.329875</td>\n",
       "      <td>41.128100</td>\n",
       "      <td>5.217420e+01</td>\n",
       "      <td>0.349102</td>\n",
       "    </tr>\n",
       "    <tr>\n",
       "      <th>max</th>\n",
       "      <td>37.471400</td>\n",
       "      <td>323.987000</td>\n",
       "      <td>0.023138</td>\n",
       "      <td>99.149200</td>\n",
       "      <td>12.712100</td>\n",
       "      <td>359.995000</td>\n",
       "      <td>86.203000</td>\n",
       "      <td>1.000000</td>\n",
       "      <td>2465.210000</td>\n",
       "      <td>102.925000</td>\n",
       "      <td>...</td>\n",
       "      <td>77.258600</td>\n",
       "      <td>491.217000</td>\n",
       "      <td>889.015000</td>\n",
       "      <td>1068.260000</td>\n",
       "      <td>134.948000</td>\n",
       "      <td>610.844000</td>\n",
       "      <td>253.909000</td>\n",
       "      <td>190.873000</td>\n",
       "      <td>4.151800e+02</td>\n",
       "      <td>3.214280</td>\n",
       "    </tr>\n",
       "  </tbody>\n",
       "</table>\n",
       "<p>8 rows × 21 columns</p>\n",
       "</div>"
      ],
      "text/plain": [
       "          近地2米温度（℃）       地表温度（K）     比湿（kg/kg）         湿度（%）  近地10米风速（m/s）  \\\n",
       "count  25416.000000  25416.000000  25416.000000  25416.000000  25416.000000   \n",
       "mean      24.941367    301.906307      0.013027     59.271910      3.927604   \n",
       "std        5.972074      8.613403      0.005130     16.499209      1.696326   \n",
       "min        3.413970    275.448000      0.000647      8.546440      0.012006   \n",
       "25%       21.211475    296.083750      0.009315     47.224525      2.711615   \n",
       "50%       25.947200    301.986000      0.013289     59.458100      3.834030   \n",
       "75%       29.278250    307.547000      0.017701     72.739450      5.059253   \n",
       "max       37.471400    323.987000      0.023138     99.149200     12.712100   \n",
       "\n",
       "         近地10米风向（°）        雨量（mm）            云量      边界层高度（m）      大气压（Kpa）  \\\n",
       "count  25416.000000  25416.000000  25416.000000  25416.000000  25416.000000   \n",
       "mean     123.315270      0.391002      0.460008    674.963830    101.190651   \n",
       "std       79.249468      1.991600      0.326640    450.299871      0.651010   \n",
       "min        0.002380      0.000000      0.000000     19.774900     99.664800   \n",
       "25%       56.523125      0.000000      0.150826    330.467500    100.631000   \n",
       "50%      130.049500      0.000000      0.439354    549.772000    101.190000   \n",
       "75%      172.048250      0.000000      0.774837    969.257750    101.689250   \n",
       "max      359.995000     86.203000      1.000000   2465.210000    102.925000   \n",
       "\n",
       "       ...    潜热通量（W/m²）    长波辐射（W/m²）    短波辐射（W/m²）  地面太阳能辐射（W/m²）  \\\n",
       "count  ...  25416.000000  25416.000000  25416.000000   25416.000000   \n",
       "mean   ...     16.962561    395.170426    215.264752     258.667851   \n",
       "std    ...     19.651134     49.883333    276.857248     332.679032   \n",
       "min    ...     -2.089550    230.671000      0.000000       0.000000   \n",
       "25%    ...      1.073412    360.149500      0.000000       0.000000   \n",
       "50%    ...      6.617565    407.791000     31.445800      37.786050   \n",
       "75%    ...     30.767725    435.506750    422.042750     507.138000   \n",
       "max    ...     77.258600    491.217000    889.015000    1068.260000   \n",
       "\n",
       "       SO2小时平均浓度(μg/m³)  NO2小时平均浓度(μg/m³)  PM10小时平均浓度(μg/m³)  \\\n",
       "count      25416.000000      25416.000000       25416.000000   \n",
       "mean           8.095342         57.976588          33.951973   \n",
       "std            7.977947         34.019993          28.272897   \n",
       "min            0.003020          7.685690           0.538817   \n",
       "25%            2.695410         31.543275          11.532400   \n",
       "50%            5.527160         50.482150          25.355650   \n",
       "75%           10.960800         78.987875          49.329875   \n",
       "max          134.948000        610.844000         253.909000   \n",
       "\n",
       "       PM2.5小时平均浓度(μg/m³)  O3小时平均浓度(μg/m³)  CO小时平均浓度(mg/m³)  \n",
       "count        25416.000000     2.541600e+04     25416.000000  \n",
       "mean            27.052738     3.289282e+01         0.298747  \n",
       "std             24.408726     3.549418e+01         0.231951  \n",
       "min              0.410555     2.052830e-14         0.089578  \n",
       "25%              7.621767     4.135275e+00         0.163849  \n",
       "50%             17.991850     2.122600e+01         0.229687  \n",
       "75%             41.128100     5.217420e+01         0.349102  \n",
       "max            190.873000     4.151800e+02         3.214280  \n",
       "\n",
       "[8 rows x 21 columns]"
      ]
     },
     "execution_count": 105,
     "metadata": {},
     "output_type": "execute_result"
    }
   ],
   "source": [
    "Spot_A_FirstPrediction.describe()"
   ]
  },
  {
   "cell_type": "code",
   "execution_count": 23,
   "metadata": {},
   "outputs": [],
   "source": [
    "# clustering\n",
    "## 对污染情况、气象条件进行进行聚类\n",
    "## 其中的缺失值用—表示，先剔除有缺失值的样本\n",
    "## 目标是对气象情况进行聚类，将其分为若干不同类\n",
    "X = Spot_A_RealTimeData.copy().drop(['地点','监测时间'],axis = 1)\n",
    "X[X == '—'] = np.NaN\n",
    "X = X.dropna()\n"
   ]
  },
  {
   "cell_type": "code",
   "execution_count": 24,
   "metadata": {},
   "outputs": [
    {
     "name": "stderr",
     "output_type": "stream",
     "text": [
      "/home/competition/anaconda3/envs/r_env/lib/python3.9/site-packages/sklearn/utils/validation.py:985: DataConversionWarning: A column-vector y was passed when a 1d array was expected. Please change the shape of y to (n_samples, ), for example using ravel().\n",
      "  y = column_or_1d(y, warn=True)\n"
     ]
    },
    {
     "name": "stdout",
     "output_type": "stream",
     "text": [
      "0.577156299076908\n"
     ]
    }
   ],
   "source": [
    "kmeans = KMeans(n_clusters=2, random_state=0).fit(X[['温度(℃)','湿度(%)','气压(MBar)','风速(m/s)','风向(°)']])\n",
    "labels = kmeans.labels_\n",
    "labels = pd.DataFrame(labels, columns=['labels'])\n",
    "kmeans_matrix = X\n",
    "kmeans_matrix.insert(kmeans_matrix.shape[1],'labels',labels)\n",
    "print(metrics.silhouette_score(X, labels, metric='euclidean'))\n"
   ]
  },
  {
   "cell_type": "code",
   "execution_count": 25,
   "metadata": {},
   "outputs": [
    {
     "name": "stderr",
     "output_type": "stream",
     "text": [
      "/home/competition/anaconda3/envs/r_env/lib/python3.9/site-packages/sklearn/manifold/_t_sne.py:780: FutureWarning: The default initialization in TSNE will change from 'random' to 'pca' in 1.2.\n",
      "  warnings.warn(\n",
      "/home/competition/anaconda3/envs/r_env/lib/python3.9/site-packages/sklearn/manifold/_t_sne.py:790: FutureWarning: The default learning rate in TSNE will change from 200.0 to 'auto' in 1.2.\n",
      "  warnings.warn(\n"
     ]
    },
    {
     "data": {
      "image/png": "[encoded data removed]",
      "text/plain": [
       "<Figure size 432x288 with 1 Axes>"
      ]
     },
     "metadata": {
      "needs_background": "light"
     },
     "output_type": "display_data"
    }
   ],
   "source": [
    "# 降维示意图\n",
    "tsne = TSNE()\n",
    "a = tsne.fit_transform(kmeans_matrix)\n",
    "liris = pd.DataFrame(a, index=kmeans_matrix.index)\n",
    "d1 = liris[kmeans_matrix['labels'] == 0]\n",
    "d2 = liris[kmeans_matrix['labels'] == 1]\n",
    "plt.plot(d1[0], d1[1], 'r.', d2[0], d2[1], 'go')\n",
    "plt.show()"
   ]
  },
  {
   "cell_type": "code",
   "execution_count": 26,
   "metadata": {},
   "outputs": [
    {
     "name": "stderr",
     "output_type": "stream",
     "text": [
      "/home/competition/anaconda3/envs/r_env/lib/python3.9/site-packages/sklearn/manifold/_t_sne.py:780: FutureWarning: The default initialization in TSNE will change from 'random' to 'pca' in 1.2.\n",
      "  warnings.warn(\n",
      "/home/competition/anaconda3/envs/r_env/lib/python3.9/site-packages/sklearn/manifold/_t_sne.py:790: FutureWarning: The default learning rate in TSNE will change from 200.0 to 'auto' in 1.2.\n",
      "  warnings.warn(\n"
     ]
    },
    {
     "data": {
      "image/png": "[encoded data removed]",
      "text/plain": [
       "<Figure size 432x288 with 1 Axes>"
      ]
     },
     "metadata": {
      "needs_background": "light"
     },
     "output_type": "display_data"
    },
    {
     "name": "stderr",
     "output_type": "stream",
     "text": [
      "/home/competition/anaconda3/envs/r_env/lib/python3.9/site-packages/sklearn/utils/validation.py:985: DataConversionWarning: A column-vector y was passed when a 1d array was expected. Please change the shape of y to (n_samples, ), for example using ravel().\n",
      "  y = column_or_1d(y, warn=True)\n"
     ]
    },
    {
     "name": "stdout",
     "output_type": "stream",
     "text": [
      "0.4411399438299433\n"
     ]
    }
   ],
   "source": [
    "# 分为3类\n",
    "X = Spot_A_RealTimeData.copy().drop(['地点','监测时间'],axis = 1)\n",
    "X[X == '—'] = np.NaN\n",
    "X = X.dropna()\n",
    "kmeans = KMeans(n_clusters=3, random_state=0).fit(X[['温度(℃)','湿度(%)','气压(MBar)','风速(m/s)','风向(°)']])\n",
    "labels = kmeans.labels_\n",
    "labels = pd.DataFrame(labels, columns=['labels'])\n",
    "kmeans_matrix = X\n",
    "kmeans_matrix.insert(kmeans_matrix.shape[1],'labels',labels)\n",
    "tsne = TSNE()\n",
    "a = tsne.fit_transform(kmeans_matrix)\n",
    "liris = pd.DataFrame(a, index=kmeans_matrix.index)\n",
    "d1 = liris[kmeans_matrix['labels'] == 0]\n",
    "d2 = liris[kmeans_matrix['labels'] == 1]\n",
    "d3 = liris[kmeans_matrix['labels'] == 2]\n",
    "plt.plot(d1[0], d1[1], 'r.', d2[0], d2[1], 'go',d3[0],d3[1],\"bv\")\n",
    "plt.show()\n",
    "print(metrics.silhouette_score(X, labels, metric='euclidean'))"
   ]
  },
  {
   "cell_type": "code",
   "execution_count": 27,
   "metadata": {},
   "outputs": [
    {
     "name": "stderr",
     "output_type": "stream",
     "text": [
      "/home/competition/anaconda3/envs/r_env/lib/python3.9/site-packages/sklearn/manifold/_t_sne.py:780: FutureWarning: The default initialization in TSNE will change from 'random' to 'pca' in 1.2.\n",
      "  warnings.warn(\n",
      "/home/competition/anaconda3/envs/r_env/lib/python3.9/site-packages/sklearn/manifold/_t_sne.py:790: FutureWarning: The default learning rate in TSNE will change from 200.0 to 'auto' in 1.2.\n",
      "  warnings.warn(\n"
     ]
    },
    {
     "data": {
      "image/png": "[encoded data removed]",
      "text/plain": [
       "<Figure size 432x288 with 1 Axes>"
      ]
     },
     "metadata": {
      "needs_background": "light"
     },
     "output_type": "display_data"
    },
    {
     "name": "stderr",
     "output_type": "stream",
     "text": [
      "/home/competition/anaconda3/envs/r_env/lib/python3.9/site-packages/sklearn/utils/validation.py:985: DataConversionWarning: A column-vector y was passed when a 1d array was expected. Please change the shape of y to (n_samples, ), for example using ravel().\n",
      "  y = column_or_1d(y, warn=True)\n"
     ]
    },
    {
     "name": "stdout",
     "output_type": "stream",
     "text": [
      "0.2665146707446006\n"
     ]
    }
   ],
   "source": [
    "# 分为四类\n",
    "X = Spot_A_RealTimeData.copy().drop(['地点','监测时间'],axis = 1)\n",
    "X[X == '—'] = np.NaN\n",
    "X = X.dropna()\n",
    "kmeans = KMeans(n_clusters=4, random_state=0).fit(X[['温度(℃)','湿度(%)','气压(MBar)','风速(m/s)','风向(°)']])\n",
    "labels = kmeans.labels_\n",
    "labels = pd.DataFrame(labels, columns=['labels'])\n",
    "kmeans_matrix = X\n",
    "kmeans_matrix.insert(kmeans_matrix.shape[1],'labels',labels)\n",
    "tsne = TSNE()\n",
    "a = tsne.fit_transform(kmeans_matrix)\n",
    "liris = pd.DataFrame(a, index=kmeans_matrix.index)\n",
    "d1 = liris[kmeans_matrix['labels'] == 0]\n",
    "d2 = liris[kmeans_matrix['labels'] == 1]\n",
    "d3 = liris[kmeans_matrix['labels'] == 2]\n",
    "d4 = liris[kmeans_matrix['labels'] == 3]\n",
    "plt.plot(d1[0], d1[1], 'r.', d2[0], d2[1], 'go',d3[0],d3[1],\"bv\",d4[0],d4[1],\"c+\")\n",
    "plt.show()\n",
    "print(metrics.silhouette_score(X, labels, metric='euclidean'))"
   ]
  },
  {
   "cell_type": "code",
   "execution_count": 28,
   "metadata": {},
   "outputs": [
    {
     "name": "stderr",
     "output_type": "stream",
     "text": [
      "/home/competition/anaconda3/envs/r_env/lib/python3.9/site-packages/sklearn/manifold/_t_sne.py:780: FutureWarning: The default initialization in TSNE will change from 'random' to 'pca' in 1.2.\n",
      "  warnings.warn(\n",
      "/home/competition/anaconda3/envs/r_env/lib/python3.9/site-packages/sklearn/manifold/_t_sne.py:790: FutureWarning: The default learning rate in TSNE will change from 200.0 to 'auto' in 1.2.\n",
      "  warnings.warn(\n"
     ]
    },
    {
     "data": {
      "image/png": "[encoded data removed]",
      "text/plain": [
       "<Figure size 432x288 with 1 Axes>"
      ]
     },
     "metadata": {
      "needs_background": "light"
     },
     "output_type": "display_data"
    }
   ],
   "source": [
    "# 分为5类\n",
    "X = Spot_A_RealTimeData.copy().drop(['地点','监测时间'],axis = 1)\n",
    "X[X == '—'] = np.NaN\n",
    "X = X.dropna()\n",
    "kmeans = KMeans(n_clusters=5, random_state=0).fit(X[['温度(℃)','湿度(%)','气压(MBar)','风速(m/s)','风向(°)']])\n",
    "labels = kmeans.labels_\n",
    "labels = pd.DataFrame(labels, columns=['labels'])\n",
    "kmeans_matrix = X\n",
    "kmeans_matrix.insert(kmeans_matrix.shape[1],'labels',labels)\n",
    "tsne = TSNE()\n",
    "a = tsne.fit_transform(kmeans_matrix)\n",
    "liris = pd.DataFrame(a, index=kmeans_matrix.index)\n",
    "d1 = liris[kmeans_matrix['labels'] == 0]\n",
    "d2 = liris[kmeans_matrix['labels'] == 1]\n",
    "d3 = liris[kmeans_matrix['labels'] == 2]\n",
    "d4 = liris[kmeans_matrix['labels'] == 3]\n",
    "d5 = liris[kmeans_matrix['labels'] == 4]\n",
    "plt.plot(d1[0], d1[1], 'r.', d2[0], d2[1], 'go',d3[0],d3[1],\"bv\",d4[0],d4[1],\"c+\",d5[0],d5[1],\"ys\")\n",
    "plt.show()"
   ]
  },
  {
   "cell_type": "code",
   "execution_count": 29,
   "metadata": {},
   "outputs": [
    {
     "name": "stderr",
     "output_type": "stream",
     "text": [
      "/home/competition/anaconda3/envs/r_env/lib/python3.9/site-packages/sklearn/manifold/_t_sne.py:780: FutureWarning: The default initialization in TSNE will change from 'random' to 'pca' in 1.2.\n",
      "  warnings.warn(\n",
      "/home/competition/anaconda3/envs/r_env/lib/python3.9/site-packages/sklearn/manifold/_t_sne.py:790: FutureWarning: The default learning rate in TSNE will change from 200.0 to 'auto' in 1.2.\n",
      "  warnings.warn(\n"
     ]
    },
    {
     "data": {
      "image/png": "[encoded data removed]",
      "text/plain": [
       "<Figure size 432x288 with 1 Axes>"
      ]
     },
     "metadata": {
      "needs_background": "light"
     },
     "output_type": "display_data"
    },
    {
     "name": "stderr",
     "output_type": "stream",
     "text": [
      "/home/competition/anaconda3/envs/r_env/lib/python3.9/site-packages/sklearn/utils/validation.py:985: DataConversionWarning: A column-vector y was passed when a 1d array was expected. Please change the shape of y to (n_samples, ), for example using ravel().\n",
      "  y = column_or_1d(y, warn=True)\n"
     ]
    },
    {
     "name": "stdout",
     "output_type": "stream",
     "text": [
      "0.23140896341656925\n"
     ]
    }
   ],
   "source": [
    "# 分为5类 3维展示\n",
    "fig = plt.figure()\n",
    "ax = fig.add_subplot(111, projection='3d')\n",
    "X = Spot_A_RealTimeData.copy().drop(['地点','监测时间'],axis = 1)\n",
    "X[X == '—'] = np.NaN\n",
    "X = X.dropna()\n",
    "kmeans = KMeans(n_clusters=5, random_state=0).fit(X[['温度(℃)','湿度(%)','气压(MBar)','风速(m/s)','风向(°)']])\n",
    "labels = kmeans.labels_\n",
    "labels = pd.DataFrame(labels, columns=['labels'])\n",
    "kmeans_matrix = X\n",
    "kmeans_matrix.insert(kmeans_matrix.shape[1],'labels',labels)\n",
    "tsne = TSNE(n_components=3)\n",
    "a = tsne.fit_transform(kmeans_matrix)\n",
    "liris = pd.DataFrame(a, index=kmeans_matrix.index)\n",
    "d1 = liris[kmeans_matrix['labels'] == 0]\n",
    "d2 = liris[kmeans_matrix['labels'] == 1]\n",
    "d3 = liris[kmeans_matrix['labels'] == 2]\n",
    "d4 = liris[kmeans_matrix['labels'] == 3]\n",
    "d5 = liris[kmeans_matrix['labels'] == 4]\n",
    "for d,c,m in [(d1,\"r\",\".\"),(d2,'g','o'),(d3,'b','v'),(d4,'c','+'),(d5,'y','s')]:\n",
    "    ax.scatter(d[0],d[1],d[2],c =c,marker = m)\n",
    "plt.show()\n",
    "print(metrics.silhouette_score(X, labels, metric='euclidean'))"
   ]
  },
  {
   "cell_type": "code",
   "execution_count": 30,
   "metadata": {},
   "outputs": [],
   "source": [
    "# 基于k = 5时的kmeans分析\n",
    "# 先使用随机产生的数据作为AQI进行分析\n",
    "# Attention:其中的label是气象类别\n",
    "# 可对其进行回归等分析\n",
    "X[X['labels']==1].var()/X[X['labels']==1].mean()# 变异系数\n",
    "X['Fake_AQI'] = np.random.randint(50,300,X.shape[0])\n"
   ]
  },
  {
   "cell_type": "code",
   "execution_count": 31,
   "metadata": {},
   "outputs": [
    {
     "data": {
      "text/plain": [
       "SVR()"
      ]
     },
     "execution_count": 31,
     "metadata": {},
     "output_type": "execute_result"
    }
   ],
   "source": [
    "#回归\n",
    "X_svm = X.drop(['温度(℃)','湿度(%)','气压(MBar)','风速(m/s)','风向(°)','Fake_AQI'],axis = 1)\n",
    "X_svm['labels'] = LabelEncoder().fit_transform(X_svm['labels'])\n",
    "y_svm = X['Fake_AQI']\n",
    "train_X,test_X,train_y,test_y = train_test_split(X_svm,\n",
    "                                                    y_svm,\n",
    "                                                    test_size=0.2)\n",
    "\n",
    "regr = svm.SVR()\n",
    "regr.fit(train_X, train_y)\n",
    "\n"
   ]
  },
  {
   "cell_type": "markdown",
   "metadata": {},
   "source": [
    "# 三四部分\n",
    "第三问题目中要求模型对各地点均适用，因此可以假设在相同的天气和污染情况下，各地的AQI相差不大\n",
    "\n",
    "目前思路：处理完成数据后，使用xgboost进行拟合,其中只需要表1与表2，易得表3可以通过表二得出\n",
    "\n",
    "自变量中，若想预测$t$时刻的$Y$，可以将$t$时刻的预测值与$t-1$时刻的观测值纳入"
   ]
  },
  {
   "cell_type": "code",
   "execution_count": 47,
   "metadata": {},
   "outputs": [],
   "source": [
    "# 时间处理\n",
    "for i in [Spot_A_FirstPrediction,Spot_B_FirstPrediction,Spot_C_FirstPrediction]:\n",
    "    i['模型运行日期'] = pd.to_datetime(i['模型运行日期'])\n",
    "    i['预测时间'] = pd.to_datetime(i['预测时间'])\n",
    "for j in [Spot_A_RealTimeData,Spot_B_RealTimeData,Spot_C_RealTimeData]:\n",
    "    j['监测时间'] = pd.to_datetime(j['监测时间'])\n",
    "for i in [Spot_A_RealTimeData_ByDay,Spot_B_RealTimeData_ByDay,Spot_C_RealTimeData_ByDay]:\n",
    "    i['监测日期'] = pd.to_datetime(i['监测日期'])\n"
   ]
  },
  {
   "cell_type": "code",
   "execution_count": 99,
   "metadata": {},
   "outputs": [],
   "source": [
    "Spot_A_FirstPrediction_temp = Spot_A_FirstPrediction.copy()\n",
    "\n",
    "Spot_A_FirstPrediction_temp['预测时间'] = Spot_A_FirstPrediction_temp[\"预测时间\"] - timedelta(hours=1)\n",
    "Spot_A_RealTimeData_temp = Spot_A_RealTimeData.copy()\n",
    "Spot_A_FirstPrediction_temp.drop_duplicates(subset = ['预测时间'],keep = 'last',inplace = True)\n",
    "\n",
    "Spot_A_Train_Data = Spot_A_RealTimeData_temp.merge(Spot_A_FirstPrediction_temp,how='inner',left_on='监测时间',right_on='预测时间')\n",
    "\n",
    "Spot_A_RealTimeData_temp = Spot_A_RealTimeData.copy()\n",
    "Spot_A_RealTimeData_temp['监测时间'] = Spot_A_RealTimeData_temp[\"监测时间\"] - timedelta(hours=1)\n",
    "Spot_A_Train_Data = Spot_A_Train_Data.merge(Spot_A_RealTimeData_temp[['监测时间',\n",
    "                                                                        'SO2监测浓度(μg/m³)',\n",
    "                                                                        'NO2监测浓度(μg/m³)',\n",
    "                                                                        'PM10监测浓度(μg/m³)',\n",
    "                                                                        'PM2.5监测浓度(μg/m³)',\n",
    "                                                                        'O3监测浓度(μg/m³)',\n",
    "                                                                        'CO监测浓度(mg/m³)']],how='inner',left_on=\"监测时间\",right_on='监测时间')\n"
   ]
  },
  {
   "cell_type": "code",
   "execution_count": 102,
   "metadata": {},
   "outputs": [
    {
     "data": {
      "text/plain": [
       "(8509, 43)"
      ]
     },
     "execution_count": 102,
     "metadata": {},
     "output_type": "execute_result"
    }
   ],
   "source": [
    "Spot_B_FirstPrediction_temp = Spot_B_FirstPrediction.copy()\n",
    "Spot_B_FirstPrediction_temp['预测时间'] = Spot_B_FirstPrediction_temp[\"预测时间\"] - timedelta(hours=1)\n",
    "Spot_B_RealTimeData_temp = Spot_B_RealTimeData.copy()\n",
    "Spot_B_FirstPrediction_temp.drop_duplicates(subset = ['预测时间'],keep = 'last',inplace = True)\n",
    "Spot_B_Train_Data = Spot_B_RealTimeData_temp.merge(Spot_B_FirstPrediction_temp,how='inner',left_on='监测时间',right_on='预测时间')\n",
    "Spot_B_RealTimeData_temp = Spot_B_RealTimeData.copy()\n",
    "Spot_B_RealTimeData_temp['监测时间'] = Spot_B_RealTimeData_temp[\"监测时间\"] - timedelta(hours=1)\n",
    "Spot_B_Train_Data = Spot_B_Train_Data.merge(Spot_B_RealTimeData_temp[['监测时间',\n",
    "                                                                        'SO2监测浓度(μg/m³)',\n",
    "                                                                        'NO2监测浓度(μg/m³)',\n",
    "                                                                        'PM10监测浓度(μg/m³)',\n",
    "                                                                        'PM2.5监测浓度(μg/m³)',\n",
    "                                                                        'O3监测浓度(μg/m³)',\n",
    "                                                                        'CO监测浓度(mg/m³)']],how='inner',left_on=\"监测时间\",right_on='监测时间')\n",
    "Spot_B_Train_Data = Spot_B_Train_Data.drop_duplicates()\n",
    "Spot_B_Train_Data.shape\n"
   ]
  },
  {
   "cell_type": "code",
   "execution_count": 103,
   "metadata": {},
   "outputs": [
    {
     "data": {
      "text/plain": [
       "(8484, 43)"
      ]
     },
     "execution_count": 103,
     "metadata": {},
     "output_type": "execute_result"
    }
   ],
   "source": [
    "Spot_C_FirstPrediction_temp = Spot_C_FirstPrediction.copy()\n",
    "Spot_C_FirstPrediction_temp['预测时间'] = Spot_C_FirstPrediction_temp[\"预测时间\"] - timedelta(hours=1)\n",
    "Spot_C_RealTimeData_temp = Spot_C_RealTimeData.copy()\n",
    "Spot_C_FirstPrediction_temp.drop_duplicates(subset = ['预测时间'],keep = 'last',inplace = True)\n",
    "Spot_C_Train_Data = Spot_C_RealTimeData_temp.merge(Spot_C_FirstPrediction_temp,how='inner',left_on='监测时间',right_on='预测时间')\n",
    "Spot_C_RealTimeData_temp = Spot_C_RealTimeData.copy()\n",
    "Spot_C_RealTimeData_temp['监测时间'] = Spot_C_RealTimeData_temp[\"监测时间\"] - timedelta(hours=1)\n",
    "Spot_C_Train_Data = Spot_C_Train_Data.merge(Spot_C_RealTimeData_temp[['监测时间',\n",
    "                                                                        'SO2监测浓度(μg/m³)',\n",
    "                                                                        'NO2监测浓度(μg/m³)',\n",
    "                                                                        'PM10监测浓度(μg/m³)',\n",
    "                                                                        'PM2.5监测浓度(μg/m³)',\n",
    "                                                                        'O3监测浓度(μg/m³)',\n",
    "                                                                        'CO监测浓度(mg/m³)']],how='inner',left_on=\"监测时间\",right_on='监测时间')\n",
    "Spot_C_Train_Data.shape"
   ]
  },
  {
   "cell_type": "code",
   "execution_count": null,
   "metadata": {},
   "outputs": [],
   "source": [
    "# 本函数用来修正数据，使其满足题目预测时间限制要求，即所采用的最新实测数据为7时\n",
    "\n",
    "def Data_Rect(df):\n",
    "    df_temp = df.copy()\n",
    "    df_latest_data = df[df['监测时间'].dt.hour]\n",
    "    for index, row in df_temp.iterrows():\n",
    "        df['监测时间']\n",
    "\n"
   ]
  },
  {
   "cell_type": "code",
   "execution_count": 36,
   "metadata": {},
   "outputs": [],
   "source": [
    "Spot_Data = pd.concat([Spot_C_Train_Data,\n",
    "                            Spot_C_Train_Data,\n",
    "                            Spot_C_Train_Data])"
   ]
  },
  {
   "cell_type": "code",
   "execution_count": 37,
   "metadata": {},
   "outputs": [
    {
     "data": {
      "text/plain": [
       "监测时间                    0\n",
       "地点_x                    0\n",
       "SO2监测浓度(μg/m³)_x        0\n",
       "NO2监测浓度(μg/m³)_x        0\n",
       "PM10监测浓度(μg/m³)_x     105\n",
       "PM2.5监测浓度(μg/m³)_x     60\n",
       "O3监测浓度(μg/m³)_x         0\n",
       "CO监测浓度(mg/m³)_x         0\n",
       "温度(℃)                   0\n",
       "湿度(%)                   0\n",
       "大气压(mBar)               0\n",
       "风速(m/s)                 9\n",
       "风向(°)                   0\n",
       "模型运行日期                  0\n",
       "预测时间                    0\n",
       "地点_y                    0\n",
       "近地2米温度（℃）               0\n",
       "地表温度（K）                 0\n",
       "比湿（kg/kg）               0\n",
       "湿度（%）                   0\n",
       "近地10米风速（m/s）            0\n",
       "近地10米风向（°）              0\n",
       "雨量（mm）                  0\n",
       "云量                      0\n",
       "边界层高度（m）                0\n",
       "大气压（Kpa）                0\n",
       "感热通量（W/m²）              0\n",
       "潜热通量（W/m²）              0\n",
       "长波辐射（W/m²）              0\n",
       "短波辐射（W/m²）              0\n",
       "地面太阳能辐射（W/m²）           0\n",
       "SO2小时平均浓度(μg/m³)        0\n",
       "NO2小时平均浓度(μg/m³)        0\n",
       "PM10小时平均浓度(μg/m³)       0\n",
       "PM2.5小时平均浓度(μg/m³)      0\n",
       "O3小时平均浓度(μg/m³)         0\n",
       "CO小时平均浓度(mg/m³)         0\n",
       "SO2监测浓度(μg/m³)_y        0\n",
       "NO2监测浓度(μg/m³)_y        0\n",
       "PM10监测浓度(μg/m³)_y      96\n",
       "PM2.5监测浓度(μg/m³)_y     60\n",
       "O3监测浓度(μg/m³)_y         0\n",
       "CO监测浓度(mg/m³)_y         0\n",
       "dtype: int64"
      ]
     },
     "execution_count": 37,
     "metadata": {},
     "output_type": "execute_result"
    }
   ],
   "source": [
    "Spot_Data.isna().sum()\n"
   ]
  },
  {
   "cell_type": "code",
   "execution_count": 38,
   "metadata": {},
   "outputs": [
    {
     "ename": "TypeError",
     "evalue": "'(slice(1, None, None),)' is an invalid key",
     "output_type": "error",
     "traceback": [
      "\u001b[0;31m---------------------------------------------------------------------------\u001b[0m",
      "\u001b[0;31mTypeError\u001b[0m                                 Traceback (most recent call last)",
      "\u001b[0;32m/tmp/ipykernel_96516/831274349.py\u001b[0m in \u001b[0;36m<module>\u001b[0;34m\u001b[0m\n\u001b[1;32m      1\u001b[0m \u001b[0;31m# 插值解决缺失值问题\u001b[0m\u001b[0;34m\u001b[0m\u001b[0;34m\u001b[0m\u001b[0m\n\u001b[1;32m      2\u001b[0m \u001b[0mimputer\u001b[0m \u001b[0;34m=\u001b[0m \u001b[0mKNNImputer\u001b[0m\u001b[0;34m(\u001b[0m\u001b[0mn_neighbors\u001b[0m\u001b[0;34m=\u001b[0m\u001b[0;36m2\u001b[0m\u001b[0;34m,\u001b[0m \u001b[0mweights\u001b[0m\u001b[0;34m=\u001b[0m\u001b[0;34m\"uniform\"\u001b[0m\u001b[0;34m)\u001b[0m\u001b[0;34m\u001b[0m\u001b[0;34m\u001b[0m\u001b[0m\n\u001b[0;32m----> 3\u001b[0;31m \u001b[0mimputer\u001b[0m\u001b[0;34m.\u001b[0m\u001b[0mfit_transform\u001b[0m\u001b[0;34m(\u001b[0m\u001b[0mSpot_Data\u001b[0m\u001b[0;34m[\u001b[0m\u001b[0;36m1\u001b[0m\u001b[0;34m:\u001b[0m\u001b[0;34m,\u001b[0m\u001b[0;34m]\u001b[0m\u001b[0;34m)\u001b[0m\u001b[0;34m\u001b[0m\u001b[0;34m\u001b[0m\u001b[0m\n\u001b[0m",
      "\u001b[0;32m~/anaconda3/envs/r_env/lib/python3.9/site-packages/pandas/core/frame.py\u001b[0m in \u001b[0;36m__getitem__\u001b[0;34m(self, key)\u001b[0m\n\u001b[1;32m   3456\u001b[0m             \u001b[0;32mif\u001b[0m \u001b[0mself\u001b[0m\u001b[0;34m.\u001b[0m\u001b[0mcolumns\u001b[0m\u001b[0;34m.\u001b[0m\u001b[0mnlevels\u001b[0m \u001b[0;34m>\u001b[0m \u001b[0;36m1\u001b[0m\u001b[0;34m:\u001b[0m\u001b[0;34m\u001b[0m\u001b[0;34m\u001b[0m\u001b[0m\n\u001b[1;32m   3457\u001b[0m                 \u001b[0;32mreturn\u001b[0m \u001b[0mself\u001b[0m\u001b[0;34m.\u001b[0m\u001b[0m_getitem_multilevel\u001b[0m\u001b[0;34m(\u001b[0m\u001b[0mkey\u001b[0m\u001b[0;34m)\u001b[0m\u001b[0;34m\u001b[0m\u001b[0;34m\u001b[0m\u001b[0m\n\u001b[0;32m-> 3458\u001b[0;31m             \u001b[0mindexer\u001b[0m \u001b[0;34m=\u001b[0m \u001b[0mself\u001b[0m\u001b[0;34m.\u001b[0m\u001b[0mcolumns\u001b[0m\u001b[0;34m.\u001b[0m\u001b[0mget_loc\u001b[0m\u001b[0;34m(\u001b[0m\u001b[0mkey\u001b[0m\u001b[0;34m)\u001b[0m\u001b[0;34m\u001b[0m\u001b[0;34m\u001b[0m\u001b[0m\n\u001b[0m\u001b[1;32m   3459\u001b[0m             \u001b[0;32mif\u001b[0m \u001b[0mis_integer\u001b[0m\u001b[0;34m(\u001b[0m\u001b[0mindexer\u001b[0m\u001b[0;34m)\u001b[0m\u001b[0;34m:\u001b[0m\u001b[0;34m\u001b[0m\u001b[0;34m\u001b[0m\u001b[0m\n\u001b[1;32m   3460\u001b[0m                 \u001b[0mindexer\u001b[0m \u001b[0;34m=\u001b[0m \u001b[0;34m[\u001b[0m\u001b[0mindexer\u001b[0m\u001b[0;34m]\u001b[0m\u001b[0;34m\u001b[0m\u001b[0;34m\u001b[0m\u001b[0m\n",
      "\u001b[0;32m~/anaconda3/envs/r_env/lib/python3.9/site-packages/pandas/core/indexes/base.py\u001b[0m in \u001b[0;36mget_loc\u001b[0;34m(self, key, method, tolerance)\u001b[0m\n\u001b[1;32m   3359\u001b[0m             \u001b[0mcasted_key\u001b[0m \u001b[0;34m=\u001b[0m \u001b[0mself\u001b[0m\u001b[0;34m.\u001b[0m\u001b[0m_maybe_cast_indexer\u001b[0m\u001b[0;34m(\u001b[0m\u001b[0mkey\u001b[0m\u001b[0;34m)\u001b[0m\u001b[0;34m\u001b[0m\u001b[0;34m\u001b[0m\u001b[0m\n\u001b[1;32m   3360\u001b[0m             \u001b[0;32mtry\u001b[0m\u001b[0;34m:\u001b[0m\u001b[0;34m\u001b[0m\u001b[0;34m\u001b[0m\u001b[0m\n\u001b[0;32m-> 3361\u001b[0;31m                 \u001b[0;32mreturn\u001b[0m \u001b[0mself\u001b[0m\u001b[0;34m.\u001b[0m\u001b[0m_engine\u001b[0m\u001b[0;34m.\u001b[0m\u001b[0mget_loc\u001b[0m\u001b[0;34m(\u001b[0m\u001b[0mcasted_key\u001b[0m\u001b[0;34m)\u001b[0m\u001b[0;34m\u001b[0m\u001b[0;34m\u001b[0m\u001b[0m\n\u001b[0m\u001b[1;32m   3362\u001b[0m             \u001b[0;32mexcept\u001b[0m \u001b[0mKeyError\u001b[0m \u001b[0;32mas\u001b[0m \u001b[0merr\u001b[0m\u001b[0;34m:\u001b[0m\u001b[0;34m\u001b[0m\u001b[0;34m\u001b[0m\u001b[0m\n\u001b[1;32m   3363\u001b[0m                 \u001b[0;32mraise\u001b[0m \u001b[0mKeyError\u001b[0m\u001b[0;34m(\u001b[0m\u001b[0mkey\u001b[0m\u001b[0;34m)\u001b[0m \u001b[0;32mfrom\u001b[0m \u001b[0merr\u001b[0m\u001b[0;34m\u001b[0m\u001b[0;34m\u001b[0m\u001b[0m\n",
      "\u001b[0;32m~/anaconda3/envs/r_env/lib/python3.9/site-packages/pandas/_libs/index.pyx\u001b[0m in \u001b[0;36mpandas._libs.index.IndexEngine.get_loc\u001b[0;34m()\u001b[0m\n",
      "\u001b[0;32m~/anaconda3/envs/r_env/lib/python3.9/site-packages/pandas/_libs/index.pyx\u001b[0m in \u001b[0;36mpandas._libs.index.IndexEngine.get_loc\u001b[0;34m()\u001b[0m\n",
      "\u001b[0;31mTypeError\u001b[0m: '(slice(1, None, None),)' is an invalid key"
     ]
    }
   ],
   "source": [
    "# 插值解决缺失值问题\n",
    "imputer = KNNImputer(n_neighbors=2, weights=\"uniform\")\n",
    "imputer.fit_transform(Spot_Data[1:,])"
   ]
  }
 ],
 "metadata": {
  "interpreter": {
   "hash": "6ffdc4f67e90637801e331d6120cfdf8955398b0e96ead58884f8c7ffedf85e1"
  },
  "kernelspec": {
   "display_name": "Python 3.9.7 64-bit ('r_env': conda)",
   "name": "python3"
  },
  "language_info": {
   "codemirror_mode": {
    "name": "ipython",
    "version": 3
   },
   "file_extension": ".py",
   "mimetype": "text/x-python",
   "name": "python",
   "nbconvert_exporter": "python",
   "pygments_lexer": "ipython3",
   "version": "3.9.7"
  },
  "orig_nbformat": 4
 },
 "nbformat": 4,
 "nbformat_minor": 2
}

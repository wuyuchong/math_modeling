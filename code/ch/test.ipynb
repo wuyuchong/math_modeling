{
 "cells": [
  {
   "cell_type": "code",
   "execution_count": 2,
   "metadata": {},
   "outputs": [
    {
     "ename": "ERROR",
     "evalue": "Error in library(gganimate): there is no package called ‘gganimate’\n",
     "output_type": "error",
     "traceback": [
      "Error in library(gganimate): there is no package called ‘gganimate’\nTraceback:\n",
      "1. library(gganimate)"
     ]
    }
   ],
   "source": [
    "library(ggplot2)\n",
    "library(gganimate)\n",
    "library(reshape2)\n",
    "gdp = read.csv('/home/competition/math_modeling/code/ch/gdp.csv')\n",
    "gdp = melt(gdp,id.vars = 'prov')\n",
    "# Plot\n",
    "\n",
    "ggplot(gdp, aes(x=year, y=n, group=name, color=name)) +\n",
    "geom_line() +\n",
    "geom_point() +\n",
    "ggtitle(\"Popularity of American names in the previous 30 years\") +\n",
    "ylab(\"Number of babies born\") +\n",
    "transition_reveal(year)\n"
   ]
  },
  {
   "cell_type": "code",
   "execution_count": null,
   "metadata": {},
   "outputs": [],
   "source": [
    "library(car)\n",
    "anova = function(x){\n",
    "    x = data$x\n",
    "    x = matrix(x,10)\n",
    "    p = dim(x)[2]\n",
    "    n = dim(x)[1]\n",
    "    ##\n",
    "    for(i in 1:p){\n",
    "        \n",
    "    }\n",
    "}"
   ]
  },
  {
   "cell_type": "code",
   "execution_count": 3,
   "metadata": {},
   "outputs": [
    {
     "name": "stderr",
     "output_type": "stream",
     "text": [
      "also installing the dependencies ‘farver’, ‘tweenr’\n",
      "\n",
      "Warning message in install.packages(\"gganimate\"):\n",
      "“installation of package ‘farver’ had non-zero exit status”Warning message in install.packages(\"gganimate\"):\n",
      "“installation of package ‘tweenr’ had non-zero exit status”Warning message in install.packages(\"gganimate\"):\n",
      "“installation of package ‘gganimate’ had non-zero exit status”Updating HTML index of packages in '.Library'\n",
      "Making 'packages.html' ... done\n"
     ]
    }
   ],
   "source": [
    "install.packages(\"gganimate\")"
   ]
  }
 ],
 "metadata": {
  "interpreter": {
   "hash": "6ffdc4f67e90637801e331d6120cfdf8955398b0e96ead58884f8c7ffedf85e1"
  },
  "kernelspec": {
   "display_name": "Python 3.9.7 64-bit ('r_env': conda)",
   "name": "python3"
  },
  "language_info": {
   "codemirror_mode": "r",
   "file_extension": ".r",
   "mimetype": "text/x-r-source",
   "name": "python",
   "pygments_lexer": "r",
   "version": "3.9.7"
  },
  "orig_nbformat": 4
 },
 "nbformat": 4,
 "nbformat_minor": 2
}
